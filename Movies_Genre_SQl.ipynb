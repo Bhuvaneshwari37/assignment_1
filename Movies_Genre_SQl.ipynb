{
 "cells": [
  {
   "cell_type": "code",
   "execution_count": 1,
   "metadata": {},
   "outputs": [
    {
     "name": "stdout",
     "output_type": "stream",
     "text": [
      "Successfully loaded data from movies_adventure_data.csv\n",
      "Successfully loaded data from movies_animation_data.csv\n",
      "Successfully loaded data from movies_crime_data.csv\n",
      "Successfully loaded data from movies_fantasy_data.csv\n",
      "Successfully loaded data from movies_biography_data.csv\n",
      "CSV data has been successfully loaded into MySQL.\n"
     ]
    }
   ],
   "source": [
    "import mysql.connector  \n",
    "import pandas as pd  \n",
    "\n",
    "# List of CSV file paths\n",
    "csv_file_paths = [\n",
    "    'movies_adventure_data.csv',\n",
    "    'movies_animation_data.csv',\n",
    "    'movies_crime_data.csv',\n",
    "    'movies_fantasy_data.csv',\n",
    "    'movies_biography_data.csv'\n",
    "]\n",
    "\n",
    "# data from the CSV files\n",
    "df_list = []\n",
    "\n",
    "# CSV file and load the data into a DataFrame\n",
    "for file_path in csv_file_paths:\n",
    "    try:\n",
    "        # Read the CSV file into a DataFrame (table-like structure)\n",
    "        df = pd.read_csv(file_path)\n",
    "        \n",
    "        # Handle missing data by replacing NaN with 0\n",
    "        df['Duration'] = df['Duration'].fillna(0)\n",
    "        df['Rating'] = df['Rating'].fillna(0)\n",
    "        df['Vote Count'] = df['Vote Count'].fillna(0)\n",
    "\n",
    "        # Add the DataFrame (table) to the list\n",
    "        df_list.append(df)\n",
    "        print(f\"Successfully loaded data from {file_path}\")\n",
    "\n",
    "    except FileNotFoundError:\n",
    "        # If the file doesn't exist, print an error message\n",
    "        print(f\"File {file_path} not found.\")\n",
    "    except Exception as e:\n",
    "        # If there's any other error, print it\n",
    "        print(f\"Error reading {file_path}: {e}\")\n",
    "\n",
    "# Combine all DataFrames into one large DataFrame\n",
    "final_df = pd.concat(df_list, ignore_index=True)\n",
    "\n",
    "# Connect to MySQL database\n",
    "connection = mysql.connector.connect(\n",
    "    host='localhost',  \n",
    "    user='root',       \n",
    "    password='Sqlbr*123', \n",
    "    database='IMBD_Movies_project1'  \n",
    ")\n",
    "\n",
    "# interact with the database\n",
    "cursor = connection.cursor()\n",
    "\n",
    "# data into the 'movie' table\n",
    "insert_query = \"\"\"\n",
    "    INSERT INTO movie (Name, Genre, Duration, Rating, `Vote Count`)\n",
    "    VALUES (%s, %s, %s, %s, %s)\n",
    "\"\"\"\n",
    "\n",
    "# Prepare the data for insertion \n",
    "data = final_df[['Name', 'Genre', 'Duration', 'Rating', 'Vote Count']].values.tolist()\n",
    "\n",
    "try:\n",
    "    \n",
    "    cursor.executemany(insert_query, data)\n",
    "    \n",
    "    connection.commit()\n",
    "\n",
    "    print(\"CSV data has been successfully loaded into MySQL.\")\n",
    "\n",
    "except mysql.connector.Error as err:\n",
    "    \n",
    "    print(f\"Error: {err}\")\n",
    "    connection.rollback()\n",
    "\n",
    "finally:\n",
    "    \n",
    "    cursor.close()\n",
    "    connection.close()\n"
   ]
  },
  {
   "cell_type": "code",
   "execution_count": 1,
   "metadata": {},
   "outputs": [
    {
     "name": "stdout",
     "output_type": "stream",
     "text": [
      "Requirement already satisfied: mysql-connector-python in d:\\vscode\\project\\.venv\\lib\\site-packages (9.2.0)\n",
      "Requirement already satisfied: pandas in d:\\vscode\\project\\.venv\\lib\\site-packages (2.2.3)\n",
      "Requirement already satisfied: numpy>=1.26.0 in d:\\vscode\\project\\.venv\\lib\\site-packages (from pandas) (2.2.2)\n",
      "Requirement already satisfied: python-dateutil>=2.8.2 in d:\\vscode\\project\\.venv\\lib\\site-packages (from pandas) (2.9.0.post0)\n",
      "Requirement already satisfied: pytz>=2020.1 in d:\\vscode\\project\\.venv\\lib\\site-packages (from pandas) (2025.1)\n",
      "Requirement already satisfied: tzdata>=2022.7 in d:\\vscode\\project\\.venv\\lib\\site-packages (from pandas) (2025.1)\n",
      "Requirement already satisfied: six>=1.5 in d:\\vscode\\project\\.venv\\lib\\site-packages (from python-dateutil>=2.8.2->pandas) (1.17.0)\n",
      "Note: you may need to restart the kernel to use updated packages.\n"
     ]
    }
   ],
   "source": [
    "pip install mysql-connector-python pandas"
   ]
  },
  {
   "cell_type": "code",
   "execution_count": null,
   "metadata": {},
   "outputs": [],
   "source": []
  }
 ],
 "metadata": {
  "kernelspec": {
   "display_name": ".venv",
   "language": "python",
   "name": "python3"
  },
  "language_info": {
   "codemirror_mode": {
    "name": "ipython",
    "version": 3
   },
   "file_extension": ".py",
   "mimetype": "text/x-python",
   "name": "python",
   "nbconvert_exporter": "python",
   "pygments_lexer": "ipython3",
   "version": "3.13.1"
  }
 },
 "nbformat": 4,
 "nbformat_minor": 2
}
